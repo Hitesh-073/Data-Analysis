{
 "cells": [
  {
   "cell_type": "code",
   "execution_count": 1,
   "id": "c97c229c-dfc8-4da2-b430-71a9dee870e1",
   "metadata": {},
   "outputs": [],
   "source": [
    "import pandas as pd\n",
    "import numpy as np\n",
    "import glob \n",
    "import os \n",
    "from pandas import DataFrame as df\n",
    "from os import listdir\n"
   ]
  },
  {
   "cell_type": "markdown",
   "id": "8061e6b7-f85c-4067-94e2-99a413ca96c0",
   "metadata": {},
   "source": [
    "## Merging all data and Concatenating to one csv file \n"
   ]
  },
  {
   "cell_type": "code",
   "execution_count": 2,
   "id": "eec672ae-81f8-4237-b4ab-918fd9261895",
   "metadata": {},
   "outputs": [],
   "source": [
    "path = r\"C:\\Users\\meett\\Documents\\Projects\\Sales_Data\"\n",
    "df1 = []\n",
    "file_names = glob.glob(path + '/*.csv')\n",
    "for file in file_names:\n",
    "    df1.append(pd.read_csv(file))\n",
    "all_data = pd.concat(df1,ignore_index=True)\n",
    "all_data.to_csv('all_sales_data.csv',index=False)"
   ]
  },
  {
   "cell_type": "markdown",
   "id": "1a612573-2683-4e35-aabd-a74496a17930",
   "metadata": {},
   "source": [
    "#### All NaN values are removed from the dataframelistdir"
   ]
  },
  {
   "cell_type": "code",
   "execution_count": 3,
   "id": "435890d8-da48-4ae5-8552-c106c5c78030",
   "metadata": {},
   "outputs": [],
   "source": [
    "months_data = pd.read_csv('all_sales_data.csv').dropna(how= 'all')"
   ]
  },
  {
   "cell_type": "code",
   "execution_count": 4,
   "id": "ba361086-2964-4475-b972-d3a818a712f9",
   "metadata": {},
   "outputs": [],
   "source": [
    "months_data.sort_index(axis = 0,ascending=True, inplace=True)"
   ]
  },
  {
   "cell_type": "code",
   "execution_count": 5,
   "id": "ee2cfb08-bd1a-464e-aded-42e5e5e548b7",
   "metadata": {},
   "outputs": [
    {
     "data": {
      "text/html": [
       "<div>\n",
       "<style scoped>\n",
       "    .dataframe tbody tr th:only-of-type {\n",
       "        vertical-align: middle;\n",
       "    }\n",
       "\n",
       "    .dataframe tbody tr th {\n",
       "        vertical-align: top;\n",
       "    }\n",
       "\n",
       "    .dataframe thead th {\n",
       "        text-align: right;\n",
       "    }\n",
       "</style>\n",
       "<table border=\"1\" class=\"dataframe\">\n",
       "  <thead>\n",
       "    <tr style=\"text-align: right;\">\n",
       "      <th></th>\n",
       "      <th>Order ID</th>\n",
       "      <th>Product</th>\n",
       "      <th>Quantity Ordered</th>\n",
       "      <th>Price Each</th>\n",
       "      <th>Order Date</th>\n",
       "      <th>Purchase Address</th>\n",
       "    </tr>\n",
       "  </thead>\n",
       "  <tbody>\n",
       "    <tr>\n",
       "      <th>0</th>\n",
       "      <td>176558</td>\n",
       "      <td>USB-C Charging Cable</td>\n",
       "      <td>2</td>\n",
       "      <td>11.95</td>\n",
       "      <td>04/19/19 08:46</td>\n",
       "      <td>917 1st St, Dallas, TX 75001</td>\n",
       "    </tr>\n",
       "    <tr>\n",
       "      <th>2</th>\n",
       "      <td>176559</td>\n",
       "      <td>Bose SoundSport Headphones</td>\n",
       "      <td>1</td>\n",
       "      <td>99.99</td>\n",
       "      <td>04/07/19 22:30</td>\n",
       "      <td>682 Chestnut St, Boston, MA 02215</td>\n",
       "    </tr>\n",
       "    <tr>\n",
       "      <th>3</th>\n",
       "      <td>176560</td>\n",
       "      <td>Google Phone</td>\n",
       "      <td>1</td>\n",
       "      <td>600</td>\n",
       "      <td>04/12/19 14:38</td>\n",
       "      <td>669 Spruce St, Los Angeles, CA 90001</td>\n",
       "    </tr>\n",
       "  </tbody>\n",
       "</table>\n",
       "</div>"
      ],
      "text/plain": [
       "  Order ID                     Product Quantity Ordered Price Each  \\\n",
       "0   176558        USB-C Charging Cable                2      11.95   \n",
       "2   176559  Bose SoundSport Headphones                1      99.99   \n",
       "3   176560                Google Phone                1        600   \n",
       "\n",
       "       Order Date                      Purchase Address  \n",
       "0  04/19/19 08:46          917 1st St, Dallas, TX 75001  \n",
       "2  04/07/19 22:30     682 Chestnut St, Boston, MA 02215  \n",
       "3  04/12/19 14:38  669 Spruce St, Los Angeles, CA 90001  "
      ]
     },
     "execution_count": 5,
     "metadata": {},
     "output_type": "execute_result"
    }
   ],
   "source": [
    "months_data.head(3)"
   ]
  },
  {
   "cell_type": "code",
   "execution_count": null,
   "id": "4d46fc4e-fd18-46ff-a24d-b7cf12e00c1e",
   "metadata": {},
   "outputs": [],
   "source": []
  },
  {
   "cell_type": "code",
   "execution_count": null,
   "id": "d8809f8b-c9e4-4c1e-98a2-2e3604f1346a",
   "metadata": {},
   "outputs": [],
   "source": []
  },
  {
   "cell_type": "code",
   "execution_count": null,
   "id": "af23d280-55b6-4ace-958b-00fcd17537ee",
   "metadata": {},
   "outputs": [],
   "source": []
  },
  {
   "cell_type": "markdown",
   "id": "a61ec6c8-8239-442f-a2dc-98472732f04a",
   "metadata": {},
   "source": [
    "#### augmenting additional columns to the dataframe"
   ]
  },
  {
   "cell_type": "markdown",
   "id": "4db6c246-51c4-4b0d-839f-9fe5795e2e56",
   "metadata": {},
   "source": [
    "##### 1. We need an addtional column for months"
   ]
  },
  {
   "cell_type": "code",
   "execution_count": 6,
   "id": "8e0c4d6f-fa38-4159-8572-f5e5ed6dcdf0",
   "metadata": {},
   "outputs": [],
   "source": [
    "months_data[['Months','Day, Year & Time']]=months_data['Order Date'].str.split('/',n=1,expand=True)"
   ]
  },
  {
   "cell_type": "markdown",
   "id": "d7fb4a6b-219e-423f-b32d-76b4cc0a9a5d",
   "metadata": {},
   "source": [
    "##### Removing all NaN values specifically from 'Months' column"
   ]
  },
  {
   "cell_type": "code",
   "execution_count": 7,
   "id": "67410399-0630-40f1-80ae-510b25c188dd",
   "metadata": {},
   "outputs": [],
   "source": [
    "months_data.dropna(subset=['Months'],inplace=True)\n",
    "months_data.dropna(how='any',inplace=True)"
   ]
  },
  {
   "cell_type": "markdown",
   "id": "97d05bad-ff25-4fdc-812e-5936dad4ed83",
   "metadata": {},
   "source": [
    "##### casting columns to different dtypes"
   ]
  },
  {
   "cell_type": "code",
   "execution_count": 8,
   "id": "787466f8-f6a6-4942-88ff-69141106ac9c",
   "metadata": {},
   "outputs": [],
   "source": [
    "months_data['Months'] = pd.to_numeric(months_data['Months'],errors ='coerce')\n",
    "months_data['Months'] = months_data['Months'].astype(int)\n",
    "months_data['Quantity Ordered'] = months_data['Quantity Ordered'].astype(int)"
   ]
  },
  {
   "cell_type": "code",
   "execution_count": null,
   "id": "048b51ec-f0fc-40c9-b5d2-2885086233ca",
   "metadata": {
    "tags": []
   },
   "outputs": [],
   "source": []
  },
  {
   "cell_type": "code",
   "execution_count": 9,
   "id": "4f91b33c-0554-45b1-b9cd-3c0706116cf2",
   "metadata": {},
   "outputs": [],
   "source": [
    "months_data['Sales'] = 'NaN'\n",
    "months_data['Price Each'] = pd.to_numeric(months_data['Price Each'],errors='coerce')"
   ]
  },
  {
   "cell_type": "code",
   "execution_count": 10,
   "id": "dbdd2e4b-216c-4fc4-a572-df03c01ab448",
   "metadata": {},
   "outputs": [],
   "source": [
    "months_data['Sales'] = months_data['Quantity Ordered'] * months_data['Price Each']"
   ]
  },
  {
   "cell_type": "code",
   "execution_count": 11,
   "id": "169eed61-bef6-4ac8-ab3a-a0f2221e1220",
   "metadata": {
    "tags": []
   },
   "outputs": [],
   "source": [
    "months_data = months_data.reindex(columns= ['Order ID', 'Product', 'Quantity Ordered','Price Each','Sales','Months' ,'Order Date',\n",
    "       'Purchase Address', 'Day, Year & Time'],copy=True)"
   ]
  },
  {
   "cell_type": "markdown",
   "id": "e393d66d-29c6-42d0-9dde-b55923f522cf",
   "metadata": {
    "tags": []
   },
   "source": [
    "#### Question 1 : What was the best month for sales? How much was earned in that month?\n"
   ]
  },
  {
   "cell_type": "markdown",
   "id": "ce075216-82d5-4a96-84f9-b6c11c144871",
   "metadata": {},
   "source": [
    "###### We can find the sales of every month by using groupby method"
   ]
  },
  {
   "cell_type": "code",
   "execution_count": 12,
   "id": "2622ee3d-ceee-4a70-972f-9ed91fa46c6e",
   "metadata": {},
   "outputs": [
    {
     "data": {
      "text/plain": [
       "Months\n",
       "1     1822256.73\n",
       "2     2202022.42\n",
       "3     2807100.38\n",
       "4     3390670.24\n",
       "5     3152606.75\n",
       "6     2577802.26\n",
       "7     2647775.76\n",
       "8     2244467.88\n",
       "9     2097560.13\n",
       "10    3736726.88\n",
       "11    3199603.20\n",
       "12    4613443.34\n",
       "Name: Sales, dtype: float64"
      ]
     },
     "execution_count": 12,
     "metadata": {},
     "output_type": "execute_result"
    }
   ],
   "source": [
    "months_data.groupby('Months').sum()['Sales']"
   ]
  },
  {
   "cell_type": "markdown",
   "id": "53b030be-62a6-4167-b183-1f0b17cead28",
   "metadata": {},
   "source": [
    "##### December had most number of sales and january had the least"
   ]
  },
  {
   "cell_type": "markdown",
   "id": "4c1d1f0e-66bb-4444-ba5d-e9b46098b635",
   "metadata": {},
   "source": [
    "##### Now plotting sales on the graph\n"
   ]
  },
  {
   "cell_type": "code",
   "execution_count": 13,
   "id": "7d334aee-07ef-4f15-bda8-1849494072cc",
   "metadata": {},
   "outputs": [],
   "source": [
    "import matplotlib.pyplot as plt"
   ]
  },
  {
   "cell_type": "code",
   "execution_count": 14,
   "id": "0e068343-9b6e-4bee-b605-757d5dae988d",
   "metadata": {},
   "outputs": [],
   "source": [
    "results = months_data.groupby('Months').sum()"
   ]
  },
  {
   "cell_type": "code",
   "execution_count": 15,
   "id": "6aeb887c-787e-4aed-b054-c0b35768a122",
   "metadata": {},
   "outputs": [
    {
     "data": {
      "text/plain": [
       "Text(0, 0.5, 'Sales in US dollars')"
      ]
     },
     "execution_count": 15,
     "metadata": {},
     "output_type": "execute_result"
    },
    {
     "data": {
      "image/png": "[encoded data removed]",
      "text/plain": [
       "<Figure size 432x288 with 1 Axes>"
      ]
     },
     "metadata": {
      "needs_background": "light"
     },
     "output_type": "display_data"
    }
   ],
   "source": [
    "months = range(1,13)\n",
    "plt.bar(months,results['Sales'])\n",
    "plt.xlabel('Months')\n",
    "plt.xticks(ticks= months)\n",
    "plt.ylabel('Sales in US dollars')"
   ]
  },
  {
   "cell_type": "code",
   "execution_count": 16,
   "id": "c95fcebf-856b-4e85-a656-6a586e1cb5ac",
   "metadata": {},
   "outputs": [
    {
     "data": {
      "text/html": [
       "<div>\n",
       "<style scoped>\n",
       "    .dataframe tbody tr th:only-of-type {\n",
       "        vertical-align: middle;\n",
       "    }\n",
       "\n",
       "    .dataframe tbody tr th {\n",
       "        vertical-align: top;\n",
       "    }\n",
       "\n",
       "    .dataframe thead th {\n",
       "        text-align: right;\n",
       "    }\n",
       "</style>\n",
       "<table border=\"1\" class=\"dataframe\">\n",
       "  <thead>\n",
       "    <tr style=\"text-align: right;\">\n",
       "      <th></th>\n",
       "      <th>Order ID</th>\n",
       "      <th>Product</th>\n",
       "      <th>Quantity Ordered</th>\n",
       "      <th>Price Each</th>\n",
       "      <th>Sales</th>\n",
       "      <th>Months</th>\n",
       "      <th>Order Date</th>\n",
       "      <th>Purchase Address</th>\n",
       "      <th>Day, Year &amp; Time</th>\n",
       "    </tr>\n",
       "  </thead>\n",
       "  <tbody>\n",
       "    <tr>\n",
       "      <th>0</th>\n",
       "      <td>176558</td>\n",
       "      <td>USB-C Charging Cable</td>\n",
       "      <td>2</td>\n",
       "      <td>11.95</td>\n",
       "      <td>23.90</td>\n",
       "      <td>4</td>\n",
       "      <td>04/19/19 08:46</td>\n",
       "      <td>917 1st St, Dallas, TX 75001</td>\n",
       "      <td>19/19 08:46</td>\n",
       "    </tr>\n",
       "    <tr>\n",
       "      <th>2</th>\n",
       "      <td>176559</td>\n",
       "      <td>Bose SoundSport Headphones</td>\n",
       "      <td>1</td>\n",
       "      <td>99.99</td>\n",
       "      <td>99.99</td>\n",
       "      <td>4</td>\n",
       "      <td>04/07/19 22:30</td>\n",
       "      <td>682 Chestnut St, Boston, MA 02215</td>\n",
       "      <td>07/19 22:30</td>\n",
       "    </tr>\n",
       "    <tr>\n",
       "      <th>3</th>\n",
       "      <td>176560</td>\n",
       "      <td>Google Phone</td>\n",
       "      <td>1</td>\n",
       "      <td>600.00</td>\n",
       "      <td>600.00</td>\n",
       "      <td>4</td>\n",
       "      <td>04/12/19 14:38</td>\n",
       "      <td>669 Spruce St, Los Angeles, CA 90001</td>\n",
       "      <td>12/19 14:38</td>\n",
       "    </tr>\n",
       "  </tbody>\n",
       "</table>\n",
       "</div>"
      ],
      "text/plain": [
       "  Order ID                     Product  Quantity Ordered  Price Each   Sales  \\\n",
       "0   176558        USB-C Charging Cable                 2       11.95   23.90   \n",
       "2   176559  Bose SoundSport Headphones                 1       99.99   99.99   \n",
       "3   176560                Google Phone                 1      600.00  600.00   \n",
       "\n",
       "   Months      Order Date                      Purchase Address  \\\n",
       "0       4  04/19/19 08:46          917 1st St, Dallas, TX 75001   \n",
       "2       4  04/07/19 22:30     682 Chestnut St, Boston, MA 02215   \n",
       "3       4  04/12/19 14:38  669 Spruce St, Los Angeles, CA 90001   \n",
       "\n",
       "  Day, Year & Time  \n",
       "0      19/19 08:46  \n",
       "2      07/19 22:30  \n",
       "3      12/19 14:38  "
      ]
     },
     "execution_count": 16,
     "metadata": {},
     "output_type": "execute_result"
    }
   ],
   "source": [
    "months_data.head(3)"
   ]
  },
  {
   "cell_type": "code",
   "execution_count": 17,
   "id": "46090c05-7fef-4d91-a3be-3836bbba0e09",
   "metadata": {},
   "outputs": [],
   "source": [
    "def get_city(address):\n",
    "    return address.split(',')[1]\n",
    "def get_state(address):\n",
    "    return address.split(',')[2].split(' ')[1]\n",
    "\n",
    "months_data['City'] = months_data['Purchase Address'].apply(lambda x : f\"{get_city(x)} {get_state(x)}\")"
   ]
  },
  {
   "cell_type": "code",
   "execution_count": 18,
   "id": "e2ecaa19-bc74-41c6-8d31-ba89eb8e3f6f",
   "metadata": {
    "tags": []
   },
   "outputs": [
    {
     "data": {
      "text/html": [
       "<div>\n",
       "<style scoped>\n",
       "    .dataframe tbody tr th:only-of-type {\n",
       "        vertical-align: middle;\n",
       "    }\n",
       "\n",
       "    .dataframe tbody tr th {\n",
       "        vertical-align: top;\n",
       "    }\n",
       "\n",
       "    .dataframe thead th {\n",
       "        text-align: right;\n",
       "    }\n",
       "</style>\n",
       "<table border=\"1\" class=\"dataframe\">\n",
       "  <thead>\n",
       "    <tr style=\"text-align: right;\">\n",
       "      <th></th>\n",
       "      <th>Order ID</th>\n",
       "      <th>Product</th>\n",
       "      <th>Quantity Ordered</th>\n",
       "      <th>Price Each</th>\n",
       "      <th>Sales</th>\n",
       "      <th>Months</th>\n",
       "      <th>Order Date</th>\n",
       "      <th>Purchase Address</th>\n",
       "      <th>Day, Year &amp; Time</th>\n",
       "      <th>City</th>\n",
       "    </tr>\n",
       "  </thead>\n",
       "  <tbody>\n",
       "    <tr>\n",
       "      <th>0</th>\n",
       "      <td>176558</td>\n",
       "      <td>USB-C Charging Cable</td>\n",
       "      <td>2</td>\n",
       "      <td>11.95</td>\n",
       "      <td>23.90</td>\n",
       "      <td>4</td>\n",
       "      <td>04/19/19 08:46</td>\n",
       "      <td>917 1st St, Dallas, TX 75001</td>\n",
       "      <td>19/19 08:46</td>\n",
       "      <td>Dallas TX</td>\n",
       "    </tr>\n",
       "    <tr>\n",
       "      <th>2</th>\n",
       "      <td>176559</td>\n",
       "      <td>Bose SoundSport Headphones</td>\n",
       "      <td>1</td>\n",
       "      <td>99.99</td>\n",
       "      <td>99.99</td>\n",
       "      <td>4</td>\n",
       "      <td>04/07/19 22:30</td>\n",
       "      <td>682 Chestnut St, Boston, MA 02215</td>\n",
       "      <td>07/19 22:30</td>\n",
       "      <td>Boston MA</td>\n",
       "    </tr>\n",
       "  </tbody>\n",
       "</table>\n",
       "</div>"
      ],
      "text/plain": [
       "  Order ID                     Product  Quantity Ordered  Price Each  Sales  \\\n",
       "0   176558        USB-C Charging Cable                 2       11.95  23.90   \n",
       "2   176559  Bose SoundSport Headphones                 1       99.99  99.99   \n",
       "\n",
       "   Months      Order Date                   Purchase Address Day, Year & Time  \\\n",
       "0       4  04/19/19 08:46       917 1st St, Dallas, TX 75001      19/19 08:46   \n",
       "2       4  04/07/19 22:30  682 Chestnut St, Boston, MA 02215      07/19 22:30   \n",
       "\n",
       "         City  \n",
       "0   Dallas TX  \n",
       "2   Boston MA  "
      ]
     },
     "execution_count": 18,
     "metadata": {},
     "output_type": "execute_result"
    }
   ],
   "source": [
    "months_data.head(2)"
   ]
  },
  {
   "cell_type": "markdown",
   "id": "876e1837-0f86-4bb4-8102-d336d84580f3",
   "metadata": {},
   "source": [
    "##### A more concise syntax can also be used by either creating a function or by using lambda with apply method.\n",
    " \n",
    " \n",
    "    "
   ]
  },
  {
   "cell_type": "code",
   "execution_count": 19,
   "id": "10605f13-116c-451e-8f98-8c6f7d7ae7f2",
   "metadata": {},
   "outputs": [],
   "source": [
    "#For example def get_city(address):\n",
    "                    #return address.split(',').get(1)\n",
    "    #months_data['Purchase Address'].apply(lambda x : get_city(x))\n",
    "    \n",
    "                        #OR\n",
    "\n",
    "#months_data['Purchase Address'].apply(lambda x : x.split(',')[1])"
   ]
  },
  {
   "cell_type": "markdown",
   "id": "40ab2900-ba15-4eb2-9243-1adc40df9528",
   "metadata": {},
   "source": [
    "#### Question 2: which city has the highest number of sales?"
   ]
  },
  {
   "cell_type": "code",
   "execution_count": 20,
   "id": "aaaf943e-fcac-43c7-bcc2-deab04c3f478",
   "metadata": {
    "tags": []
   },
   "outputs": [
    {
     "data": {
      "text/plain": [
       "City\n",
       " Atlanta GA          2795498.58\n",
       " Austin TX           1819581.75\n",
       " Boston MA           3661642.01\n",
       " Dallas TX           2767975.40\n",
       " Los Angeles CA      5452570.80\n",
       " New York City NY    4664317.43\n",
       " Portland ME          449758.27\n",
       " Portland OR         1870732.34\n",
       " San Francisco CA    8262203.91\n",
       " Seattle WA          2747755.48\n",
       "Name: Sales, dtype: float64"
      ]
     },
     "execution_count": 20,
     "metadata": {},
     "output_type": "execute_result"
    }
   ],
   "source": [
    "months_data.groupby('City').sum()['Sales']"
   ]
  },
  {
   "cell_type": "code",
   "execution_count": 21,
   "id": "3d038126-5efe-4952-b250-79b7589a64cc",
   "metadata": {},
   "outputs": [],
   "source": [
    "result_2 = months_data.groupby('City').sum('Sales')"
   ]
  },
  {
   "cell_type": "code",
   "execution_count": 22,
   "id": "e7da11ca-3a8f-4ae7-b73c-c64095e476b0",
   "metadata": {
    "tags": []
   },
   "outputs": [
    {
     "data": {
      "text/plain": [
       "City\n",
       " Atlanta GA          2795498.58\n",
       " Austin TX           1819581.75\n",
       " Boston MA           3661642.01\n",
       " Dallas TX           2767975.40\n",
       " Los Angeles CA      5452570.80\n",
       " New York City NY    4664317.43\n",
       " Portland ME          449758.27\n",
       " Portland OR         1870732.34\n",
       " San Francisco CA    8262203.91\n",
       " Seattle WA          2747755.48\n",
       "Name: Sales, dtype: float64"
      ]
     },
     "execution_count": 22,
     "metadata": {},
     "output_type": "execute_result"
    }
   ],
   "source": [
    "result_2['Sales']\n"
   ]
  },
  {
   "cell_type": "code",
   "execution_count": 23,
   "id": "e7090da6-8bae-4167-ac80-1b243cff6944",
   "metadata": {},
   "outputs": [
    {
     "data": {
      "text/plain": [
       "0                 Dallas TX\n",
       "2                 Boston MA\n",
       "3            Los Angeles CA\n",
       "4            Los Angeles CA\n",
       "5            Los Angeles CA\n",
       "                ...        \n",
       "186845       Los Angeles CA\n",
       "186846     San Francisco CA\n",
       "186847     San Francisco CA\n",
       "186848     San Francisco CA\n",
       "186849     San Francisco CA\n",
       "Name: City, Length: 185950, dtype: object"
      ]
     },
     "execution_count": 23,
     "metadata": {},
     "output_type": "execute_result"
    }
   ],
   "source": [
    "months_data['City']"
   ]
  },
  {
   "cell_type": "code",
   "execution_count": 24,
   "id": "277b875b-4bfe-448a-b326-495fa7cc2b0e",
   "metadata": {},
   "outputs": [
    {
     "data": {
      "text/plain": [
       "array([' Dallas TX', ' Boston MA', ' Los Angeles CA', ' San Francisco CA',\n",
       "       ' Seattle WA', ' Atlanta GA', ' New York City NY', ' Portland OR',\n",
       "       ' Austin TX', ' Portland ME'], dtype=object)"
      ]
     },
     "execution_count": 24,
     "metadata": {},
     "output_type": "execute_result"
    }
   ],
   "source": [
    "months_data['City'].unique()"
   ]
  },
  {
   "cell_type": "code",
   "execution_count": 25,
   "id": "7dc834d0-f9d0-403c-a48e-e6080160cb05",
   "metadata": {},
   "outputs": [],
   "source": [
    "cities = [city for city, state in months_data.groupby('City')] # list comprehension"
   ]
  },
  {
   "cell_type": "code",
   "execution_count": 26,
   "id": "f0bece7d-64fc-42cc-a1f1-ba60b3b7c69e",
   "metadata": {},
   "outputs": [],
   "source": [
    "result_2 = months_data.groupby('City').sum('Sales')"
   ]
  },
  {
   "cell_type": "code",
   "execution_count": null,
   "id": "0400c59a-6a2b-471c-902d-8a61c2413c36",
   "metadata": {},
   "outputs": [],
   "source": []
  },
  {
   "cell_type": "code",
   "execution_count": null,
   "id": "2f54c064-f620-4b0b-8cb9-3244d077a026",
   "metadata": {},
   "outputs": [],
   "source": []
  },
  {
   "cell_type": "code",
   "execution_count": null,
   "id": "f7beb188-6b02-456f-bcb6-a6ecf7da616a",
   "metadata": {},
   "outputs": [],
   "source": []
  },
  {
   "cell_type": "code",
   "execution_count": null,
   "id": "72891f17-b6b4-4dd7-8f9e-5868922b341e",
   "metadata": {},
   "outputs": [],
   "source": []
  },
  {
   "cell_type": "markdown",
   "id": "f66cf8c7-67f7-443f-bc89-0ed772d2c9a0",
   "metadata": {},
   "source": [
    "##### Question 3: what time should we display advertisements to maximize the likelihood of customer's buying products?"
   ]
  },
  {
   "cell_type": "code",
   "execution_count": 27,
   "id": "8255da9f-eec3-409b-97c0-4ae49ac35f51",
   "metadata": {
    "tags": []
   },
   "outputs": [
    {
     "data": {
      "text/html": [
       "<div>\n",
       "<style scoped>\n",
       "    .dataframe tbody tr th:only-of-type {\n",
       "        vertical-align: middle;\n",
       "    }\n",
       "\n",
       "    .dataframe tbody tr th {\n",
       "        vertical-align: top;\n",
       "    }\n",
       "\n",
       "    .dataframe thead th {\n",
       "        text-align: right;\n",
       "    }\n",
       "</style>\n",
       "<table border=\"1\" class=\"dataframe\">\n",
       "  <thead>\n",
       "    <tr style=\"text-align: right;\">\n",
       "      <th></th>\n",
       "      <th>Order ID</th>\n",
       "      <th>Product</th>\n",
       "      <th>Quantity Ordered</th>\n",
       "      <th>Price Each</th>\n",
       "      <th>Sales</th>\n",
       "      <th>Months</th>\n",
       "      <th>Order Date</th>\n",
       "      <th>Purchase Address</th>\n",
       "      <th>Day, Year &amp; Time</th>\n",
       "      <th>City</th>\n",
       "    </tr>\n",
       "  </thead>\n",
       "  <tbody>\n",
       "    <tr>\n",
       "      <th>0</th>\n",
       "      <td>176558</td>\n",
       "      <td>USB-C Charging Cable</td>\n",
       "      <td>2</td>\n",
       "      <td>11.95</td>\n",
       "      <td>23.90</td>\n",
       "      <td>4</td>\n",
       "      <td>04/19/19 08:46</td>\n",
       "      <td>917 1st St, Dallas, TX 75001</td>\n",
       "      <td>19/19 08:46</td>\n",
       "      <td>Dallas TX</td>\n",
       "    </tr>\n",
       "    <tr>\n",
       "      <th>2</th>\n",
       "      <td>176559</td>\n",
       "      <td>Bose SoundSport Headphones</td>\n",
       "      <td>1</td>\n",
       "      <td>99.99</td>\n",
       "      <td>99.99</td>\n",
       "      <td>4</td>\n",
       "      <td>04/07/19 22:30</td>\n",
       "      <td>682 Chestnut St, Boston, MA 02215</td>\n",
       "      <td>07/19 22:30</td>\n",
       "      <td>Boston MA</td>\n",
       "    </tr>\n",
       "  </tbody>\n",
       "</table>\n",
       "</div>"
      ],
      "text/plain": [
       "  Order ID                     Product  Quantity Ordered  Price Each  Sales  \\\n",
       "0   176558        USB-C Charging Cable                 2       11.95  23.90   \n",
       "2   176559  Bose SoundSport Headphones                 1       99.99  99.99   \n",
       "\n",
       "   Months      Order Date                   Purchase Address Day, Year & Time  \\\n",
       "0       4  04/19/19 08:46       917 1st St, Dallas, TX 75001      19/19 08:46   \n",
       "2       4  04/07/19 22:30  682 Chestnut St, Boston, MA 02215      07/19 22:30   \n",
       "\n",
       "         City  \n",
       "0   Dallas TX  \n",
       "2   Boston MA  "
      ]
     },
     "execution_count": 27,
     "metadata": {},
     "output_type": "execute_result"
    }
   ],
   "source": [
    "months_data.head(2)"
   ]
  },
  {
   "cell_type": "code",
   "execution_count": 28,
   "id": "94d6d6df-511c-480d-ab95-9dd1239d152d",
   "metadata": {},
   "outputs": [
    {
     "data": {
      "text/html": [
       "<div>\n",
       "<style scoped>\n",
       "    .dataframe tbody tr th:only-of-type {\n",
       "        vertical-align: middle;\n",
       "    }\n",
       "\n",
       "    .dataframe tbody tr th {\n",
       "        vertical-align: top;\n",
       "    }\n",
       "\n",
       "    .dataframe thead th {\n",
       "        text-align: right;\n",
       "    }\n",
       "</style>\n",
       "<table border=\"1\" class=\"dataframe\">\n",
       "  <thead>\n",
       "    <tr style=\"text-align: right;\">\n",
       "      <th></th>\n",
       "      <th>index</th>\n",
       "      <th>Order ID</th>\n",
       "      <th>Product</th>\n",
       "      <th>Quantity Ordered</th>\n",
       "      <th>Price Each</th>\n",
       "      <th>Sales</th>\n",
       "      <th>Months</th>\n",
       "      <th>Order Date</th>\n",
       "      <th>Purchase Address</th>\n",
       "      <th>Day, Year &amp; Time</th>\n",
       "      <th>City</th>\n",
       "    </tr>\n",
       "  </thead>\n",
       "  <tbody>\n",
       "    <tr>\n",
       "      <th>0</th>\n",
       "      <td>0</td>\n",
       "      <td>176558</td>\n",
       "      <td>USB-C Charging Cable</td>\n",
       "      <td>2</td>\n",
       "      <td>11.95</td>\n",
       "      <td>23.90</td>\n",
       "      <td>4</td>\n",
       "      <td>04/19/19 08:46</td>\n",
       "      <td>917 1st St, Dallas, TX 75001</td>\n",
       "      <td>19/19 08:46</td>\n",
       "      <td>Dallas TX</td>\n",
       "    </tr>\n",
       "    <tr>\n",
       "      <th>1</th>\n",
       "      <td>2</td>\n",
       "      <td>176559</td>\n",
       "      <td>Bose SoundSport Headphones</td>\n",
       "      <td>1</td>\n",
       "      <td>99.99</td>\n",
       "      <td>99.99</td>\n",
       "      <td>4</td>\n",
       "      <td>04/07/19 22:30</td>\n",
       "      <td>682 Chestnut St, Boston, MA 02215</td>\n",
       "      <td>07/19 22:30</td>\n",
       "      <td>Boston MA</td>\n",
       "    </tr>\n",
       "  </tbody>\n",
       "</table>\n",
       "</div>"
      ],
      "text/plain": [
       "   index Order ID                     Product  Quantity Ordered  Price Each  \\\n",
       "0      0   176558        USB-C Charging Cable                 2       11.95   \n",
       "1      2   176559  Bose SoundSport Headphones                 1       99.99   \n",
       "\n",
       "   Sales  Months      Order Date                   Purchase Address  \\\n",
       "0  23.90       4  04/19/19 08:46       917 1st St, Dallas, TX 75001   \n",
       "1  99.99       4  04/07/19 22:30  682 Chestnut St, Boston, MA 02215   \n",
       "\n",
       "  Day, Year & Time        City  \n",
       "0      19/19 08:46   Dallas TX  \n",
       "1      07/19 22:30   Boston MA  "
      ]
     },
     "execution_count": 28,
     "metadata": {},
     "output_type": "execute_result"
    }
   ],
   "source": [
    "months_data.reset_index().head(2)"
   ]
  },
  {
   "cell_type": "code",
   "execution_count": 29,
   "id": "6b13b5bc-00dd-4510-9a12-9257b162e43c",
   "metadata": {},
   "outputs": [],
   "source": [
    "months_data['Order Date'] = pd.to_datetime(months_data['Order Date'])"
   ]
  },
  {
   "cell_type": "code",
   "execution_count": 30,
   "id": "4fc78b4a-f31d-4489-a18f-de86ec40fa53",
   "metadata": {},
   "outputs": [],
   "source": [
    "months_data = months_data.reset_index()"
   ]
  },
  {
   "cell_type": "code",
   "execution_count": 31,
   "id": "4ef01fba-7d80-45af-be5f-8ba2583853d0",
   "metadata": {
    "tags": []
   },
   "outputs": [
    {
     "data": {
      "text/html": [
       "<div>\n",
       "<style scoped>\n",
       "    .dataframe tbody tr th:only-of-type {\n",
       "        vertical-align: middle;\n",
       "    }\n",
       "\n",
       "    .dataframe tbody tr th {\n",
       "        vertical-align: top;\n",
       "    }\n",
       "\n",
       "    .dataframe thead th {\n",
       "        text-align: right;\n",
       "    }\n",
       "</style>\n",
       "<table border=\"1\" class=\"dataframe\">\n",
       "  <thead>\n",
       "    <tr style=\"text-align: right;\">\n",
       "      <th></th>\n",
       "      <th>index</th>\n",
       "      <th>Order ID</th>\n",
       "      <th>Product</th>\n",
       "      <th>Quantity Ordered</th>\n",
       "      <th>Price Each</th>\n",
       "      <th>Sales</th>\n",
       "      <th>Months</th>\n",
       "      <th>Order Date</th>\n",
       "      <th>Purchase Address</th>\n",
       "      <th>Day, Year &amp; Time</th>\n",
       "      <th>City</th>\n",
       "    </tr>\n",
       "  </thead>\n",
       "  <tbody>\n",
       "    <tr>\n",
       "      <th>0</th>\n",
       "      <td>0</td>\n",
       "      <td>176558</td>\n",
       "      <td>USB-C Charging Cable</td>\n",
       "      <td>2</td>\n",
       "      <td>11.95</td>\n",
       "      <td>23.90</td>\n",
       "      <td>4</td>\n",
       "      <td>2019-04-19 08:46:00</td>\n",
       "      <td>917 1st St, Dallas, TX 75001</td>\n",
       "      <td>19/19 08:46</td>\n",
       "      <td>Dallas TX</td>\n",
       "    </tr>\n",
       "    <tr>\n",
       "      <th>1</th>\n",
       "      <td>2</td>\n",
       "      <td>176559</td>\n",
       "      <td>Bose SoundSport Headphones</td>\n",
       "      <td>1</td>\n",
       "      <td>99.99</td>\n",
       "      <td>99.99</td>\n",
       "      <td>4</td>\n",
       "      <td>2019-04-07 22:30:00</td>\n",
       "      <td>682 Chestnut St, Boston, MA 02215</td>\n",
       "      <td>07/19 22:30</td>\n",
       "      <td>Boston MA</td>\n",
       "    </tr>\n",
       "    <tr>\n",
       "      <th>2</th>\n",
       "      <td>3</td>\n",
       "      <td>176560</td>\n",
       "      <td>Google Phone</td>\n",
       "      <td>1</td>\n",
       "      <td>600.00</td>\n",
       "      <td>600.00</td>\n",
       "      <td>4</td>\n",
       "      <td>2019-04-12 14:38:00</td>\n",
       "      <td>669 Spruce St, Los Angeles, CA 90001</td>\n",
       "      <td>12/19 14:38</td>\n",
       "      <td>Los Angeles CA</td>\n",
       "    </tr>\n",
       "  </tbody>\n",
       "</table>\n",
       "</div>"
      ],
      "text/plain": [
       "   index Order ID                     Product  Quantity Ordered  Price Each  \\\n",
       "0      0   176558        USB-C Charging Cable                 2       11.95   \n",
       "1      2   176559  Bose SoundSport Headphones                 1       99.99   \n",
       "2      3   176560                Google Phone                 1      600.00   \n",
       "\n",
       "    Sales  Months          Order Date                      Purchase Address  \\\n",
       "0   23.90       4 2019-04-19 08:46:00          917 1st St, Dallas, TX 75001   \n",
       "1   99.99       4 2019-04-07 22:30:00     682 Chestnut St, Boston, MA 02215   \n",
       "2  600.00       4 2019-04-12 14:38:00  669 Spruce St, Los Angeles, CA 90001   \n",
       "\n",
       "  Day, Year & Time             City  \n",
       "0      19/19 08:46        Dallas TX  \n",
       "1      07/19 22:30        Boston MA  \n",
       "2      12/19 14:38   Los Angeles CA  "
      ]
     },
     "execution_count": 31,
     "metadata": {},
     "output_type": "execute_result"
    }
   ],
   "source": [
    "months_data.head(3)"
   ]
  },
  {
   "cell_type": "markdown",
   "id": "84b0cafb-fb5e-4280-a62e-d9b0becf86da",
   "metadata": {},
   "source": [
    "#### Question 3: what time should we display advertisements to maximize the likelihood of customers buying products?"
   ]
  },
  {
   "cell_type": "code",
   "execution_count": 33,
   "id": "2b720f26-1966-4c1d-8dd4-cf8aebafa1b5",
   "metadata": {},
   "outputs": [],
   "source": [
    "import datetime as dt"
   ]
  },
  {
   "cell_type": "code",
   "execution_count": 34,
   "id": "2a1f3a98-6e87-42ef-88be-7359d6c9c77d",
   "metadata": {},
   "outputs": [],
   "source": [
    "months_data['Hours'] = months_data['Order Date'].dt.hour"
   ]
  },
  {
   "cell_type": "code",
   "execution_count": 35,
   "id": "69735385-a8fb-4026-a109-e0f425c96aac",
   "metadata": {},
   "outputs": [
    {
     "data": {
      "text/html": [
       "<div>\n",
       "<style scoped>\n",
       "    .dataframe tbody tr th:only-of-type {\n",
       "        vertical-align: middle;\n",
       "    }\n",
       "\n",
       "    .dataframe tbody tr th {\n",
       "        vertical-align: top;\n",
       "    }\n",
       "\n",
       "    .dataframe thead th {\n",
       "        text-align: right;\n",
       "    }\n",
       "</style>\n",
       "<table border=\"1\" class=\"dataframe\">\n",
       "  <thead>\n",
       "    <tr style=\"text-align: right;\">\n",
       "      <th></th>\n",
       "      <th>index</th>\n",
       "      <th>Order ID</th>\n",
       "      <th>Product</th>\n",
       "      <th>Quantity Ordered</th>\n",
       "      <th>Price Each</th>\n",
       "      <th>Sales</th>\n",
       "      <th>Months</th>\n",
       "      <th>Order Date</th>\n",
       "      <th>Purchase Address</th>\n",
       "      <th>Day, Year &amp; Time</th>\n",
       "      <th>City</th>\n",
       "      <th>Hours</th>\n",
       "    </tr>\n",
       "  </thead>\n",
       "  <tbody>\n",
       "    <tr>\n",
       "      <th>0</th>\n",
       "      <td>0</td>\n",
       "      <td>176558</td>\n",
       "      <td>USB-C Charging Cable</td>\n",
       "      <td>2</td>\n",
       "      <td>11.95</td>\n",
       "      <td>23.90</td>\n",
       "      <td>4</td>\n",
       "      <td>2019-04-19 08:46:00</td>\n",
       "      <td>917 1st St, Dallas, TX 75001</td>\n",
       "      <td>19/19 08:46</td>\n",
       "      <td>Dallas TX</td>\n",
       "      <td>8</td>\n",
       "    </tr>\n",
       "    <tr>\n",
       "      <th>1</th>\n",
       "      <td>2</td>\n",
       "      <td>176559</td>\n",
       "      <td>Bose SoundSport Headphones</td>\n",
       "      <td>1</td>\n",
       "      <td>99.99</td>\n",
       "      <td>99.99</td>\n",
       "      <td>4</td>\n",
       "      <td>2019-04-07 22:30:00</td>\n",
       "      <td>682 Chestnut St, Boston, MA 02215</td>\n",
       "      <td>07/19 22:30</td>\n",
       "      <td>Boston MA</td>\n",
       "      <td>22</td>\n",
       "    </tr>\n",
       "  </tbody>\n",
       "</table>\n",
       "</div>"
      ],
      "text/plain": [
       "   index Order ID                     Product  Quantity Ordered  Price Each  \\\n",
       "0      0   176558        USB-C Charging Cable                 2       11.95   \n",
       "1      2   176559  Bose SoundSport Headphones                 1       99.99   \n",
       "\n",
       "   Sales  Months          Order Date                   Purchase Address  \\\n",
       "0  23.90       4 2019-04-19 08:46:00       917 1st St, Dallas, TX 75001   \n",
       "1  99.99       4 2019-04-07 22:30:00  682 Chestnut St, Boston, MA 02215   \n",
       "\n",
       "  Day, Year & Time        City  Hours  \n",
       "0      19/19 08:46   Dallas TX      8  \n",
       "1      07/19 22:30   Boston MA     22  "
      ]
     },
     "execution_count": 35,
     "metadata": {},
     "output_type": "execute_result"
    }
   ],
   "source": [
    "months_data.head(2)"
   ]
  },
  {
   "cell_type": "code",
   "execution_count": 36,
   "id": "002d8788-7584-4820-8c6d-75a110be413d",
   "metadata": {},
   "outputs": [],
   "source": [
    "Orders = months_data.groupby('Hours')['Product'].count()"
   ]
  },
  {
   "cell_type": "code",
   "execution_count": 37,
   "id": "eaf76667-f658-41be-a06c-282963033449",
   "metadata": {},
   "outputs": [],
   "source": [
    "hours = [hour for hour, minute in months_data.groupby('Hours')]"
   ]
  },
  {
   "cell_type": "code",
   "execution_count": 38,
   "id": "071436bb-65e1-41b5-afdb-b6288696e6e9",
   "metadata": {},
   "outputs": [
    {
     "data": {
      "text/plain": [
       "' Most of the order placements occured in around 12pm and 7pm respectively. So, maybe these two times could be most favourable\\nfor displaying adverstisements '"
      ]
     },
     "execution_count": 38,
     "metadata": {},
     "output_type": "execute_result"
    },
    {
     "data": {
      "image/png": "[encoded data removed]",
      "text/plain": [
       "<Figure size 432x288 with 1 Axes>"
      ]
     },
     "metadata": {
      "needs_background": "light"
     },
     "output_type": "display_data"
    }
   ],
   "source": [
    "plt.plot(hours, Orders)\n",
    "plt.xticks(hours)\n",
    "plt.grid()\n",
    "plt.xlabel('Hours')\n",
    "plt.ylabel('Placement of Orders')\n",
    "\n",
    "\"\"\" Most of the order placements occured in around 12pm and 7pm respectively. So, maybe these two times could be most favourable\n",
    "for displaying adverstisements \"\"\" \n"
   ]
  },
  {
   "cell_type": "markdown",
   "id": "f879ee87-0602-4412-a1d3-ce22e48fdaee",
   "metadata": {},
   "source": [
    "#### Question 4: What products are often sold together?"
   ]
  },
  {
   "cell_type": "code",
   "execution_count": 39,
   "id": "5e9660e9-b20b-4168-b27b-f870d1429471",
   "metadata": {},
   "outputs": [],
   "source": [
    "# We need to know the time at which the sale of the products occured.\n",
    "# To do this, we have to cast object ['Product'] to category as column ['Product'] has only 19 'n' unique values."
   ]
  },
  {
   "cell_type": "code",
   "execution_count": 40,
   "id": "e3d74d3d-f944-4b8b-aa3f-a72278f8b4f0",
   "metadata": {},
   "outputs": [],
   "source": [
    "months_data['Product'] = months_data['Product'].astype('category')"
   ]
  },
  {
   "cell_type": "code",
   "execution_count": 41,
   "id": "13212905-b22d-4e47-96eb-8d67c6a1d498",
   "metadata": {},
   "outputs": [
    {
     "data": {
      "text/html": [
       "<div>\n",
       "<style scoped>\n",
       "    .dataframe tbody tr th:only-of-type {\n",
       "        vertical-align: middle;\n",
       "    }\n",
       "\n",
       "    .dataframe tbody tr th {\n",
       "        vertical-align: top;\n",
       "    }\n",
       "\n",
       "    .dataframe thead th {\n",
       "        text-align: right;\n",
       "    }\n",
       "</style>\n",
       "<table border=\"1\" class=\"dataframe\">\n",
       "  <thead>\n",
       "    <tr style=\"text-align: right;\">\n",
       "      <th></th>\n",
       "      <th>index</th>\n",
       "      <th>Order ID</th>\n",
       "      <th>Product</th>\n",
       "      <th>Quantity Ordered</th>\n",
       "      <th>Price Each</th>\n",
       "      <th>Sales</th>\n",
       "      <th>Months</th>\n",
       "      <th>Order Date</th>\n",
       "      <th>Purchase Address</th>\n",
       "      <th>Day, Year &amp; Time</th>\n",
       "      <th>City</th>\n",
       "      <th>Hours</th>\n",
       "    </tr>\n",
       "  </thead>\n",
       "  <tbody>\n",
       "    <tr>\n",
       "      <th>0</th>\n",
       "      <td>0</td>\n",
       "      <td>176558</td>\n",
       "      <td>USB-C Charging Cable</td>\n",
       "      <td>2</td>\n",
       "      <td>11.95</td>\n",
       "      <td>23.90</td>\n",
       "      <td>4</td>\n",
       "      <td>2019-04-19 08:46:00</td>\n",
       "      <td>917 1st St, Dallas, TX 75001</td>\n",
       "      <td>19/19 08:46</td>\n",
       "      <td>Dallas TX</td>\n",
       "      <td>8</td>\n",
       "    </tr>\n",
       "    <tr>\n",
       "      <th>1</th>\n",
       "      <td>2</td>\n",
       "      <td>176559</td>\n",
       "      <td>Bose SoundSport Headphones</td>\n",
       "      <td>1</td>\n",
       "      <td>99.99</td>\n",
       "      <td>99.99</td>\n",
       "      <td>4</td>\n",
       "      <td>2019-04-07 22:30:00</td>\n",
       "      <td>682 Chestnut St, Boston, MA 02215</td>\n",
       "      <td>07/19 22:30</td>\n",
       "      <td>Boston MA</td>\n",
       "      <td>22</td>\n",
       "    </tr>\n",
       "    <tr>\n",
       "      <th>2</th>\n",
       "      <td>3</td>\n",
       "      <td>176560</td>\n",
       "      <td>Google Phone</td>\n",
       "      <td>1</td>\n",
       "      <td>600.00</td>\n",
       "      <td>600.00</td>\n",
       "      <td>4</td>\n",
       "      <td>2019-04-12 14:38:00</td>\n",
       "      <td>669 Spruce St, Los Angeles, CA 90001</td>\n",
       "      <td>12/19 14:38</td>\n",
       "      <td>Los Angeles CA</td>\n",
       "      <td>14</td>\n",
       "    </tr>\n",
       "    <tr>\n",
       "      <th>3</th>\n",
       "      <td>4</td>\n",
       "      <td>176560</td>\n",
       "      <td>Wired Headphones</td>\n",
       "      <td>1</td>\n",
       "      <td>11.99</td>\n",
       "      <td>11.99</td>\n",
       "      <td>4</td>\n",
       "      <td>2019-04-12 14:38:00</td>\n",
       "      <td>669 Spruce St, Los Angeles, CA 90001</td>\n",
       "      <td>12/19 14:38</td>\n",
       "      <td>Los Angeles CA</td>\n",
       "      <td>14</td>\n",
       "    </tr>\n",
       "    <tr>\n",
       "      <th>4</th>\n",
       "      <td>5</td>\n",
       "      <td>176561</td>\n",
       "      <td>Wired Headphones</td>\n",
       "      <td>1</td>\n",
       "      <td>11.99</td>\n",
       "      <td>11.99</td>\n",
       "      <td>4</td>\n",
       "      <td>2019-04-30 09:27:00</td>\n",
       "      <td>333 8th St, Los Angeles, CA 90001</td>\n",
       "      <td>30/19 09:27</td>\n",
       "      <td>Los Angeles CA</td>\n",
       "      <td>9</td>\n",
       "    </tr>\n",
       "  </tbody>\n",
       "</table>\n",
       "</div>"
      ],
      "text/plain": [
       "   index Order ID                     Product  Quantity Ordered  Price Each  \\\n",
       "0      0   176558        USB-C Charging Cable                 2       11.95   \n",
       "1      2   176559  Bose SoundSport Headphones                 1       99.99   \n",
       "2      3   176560                Google Phone                 1      600.00   \n",
       "3      4   176560            Wired Headphones                 1       11.99   \n",
       "4      5   176561            Wired Headphones                 1       11.99   \n",
       "\n",
       "    Sales  Months          Order Date                      Purchase Address  \\\n",
       "0   23.90       4 2019-04-19 08:46:00          917 1st St, Dallas, TX 75001   \n",
       "1   99.99       4 2019-04-07 22:30:00     682 Chestnut St, Boston, MA 02215   \n",
       "2  600.00       4 2019-04-12 14:38:00  669 Spruce St, Los Angeles, CA 90001   \n",
       "3   11.99       4 2019-04-12 14:38:00  669 Spruce St, Los Angeles, CA 90001   \n",
       "4   11.99       4 2019-04-30 09:27:00     333 8th St, Los Angeles, CA 90001   \n",
       "\n",
       "  Day, Year & Time             City  Hours  \n",
       "0      19/19 08:46        Dallas TX      8  \n",
       "1      07/19 22:30        Boston MA     22  \n",
       "2      12/19 14:38   Los Angeles CA     14  \n",
       "3      12/19 14:38   Los Angeles CA     14  \n",
       "4      30/19 09:27   Los Angeles CA      9  "
      ]
     },
     "execution_count": 41,
     "metadata": {},
     "output_type": "execute_result"
    }
   ],
   "source": [
    "months_data.head()"
   ]
  },
  {
   "cell_type": "code",
   "execution_count": 42,
   "id": "c8c52317-e31e-4941-9b5c-4d1032ad6ec3",
   "metadata": {},
   "outputs": [],
   "source": [
    "# we will get to know the number of rows having duplicate values after calling duplicated method on the dataframe.\n"
   ]
  },
  {
   "cell_type": "code",
   "execution_count": 43,
   "id": "68cac7e6-d393-4add-a670-ad9146860d18",
   "metadata": {},
   "outputs": [],
   "source": [
    "months_data['Duplicate values'] = months_data.duplicated(subset =['Order ID','Order Date'],keep= False)"
   ]
  },
  {
   "cell_type": "code",
   "execution_count": 44,
   "id": "da74d601-8a49-4449-97c7-a79443e0648b",
   "metadata": {
    "jupyter": {
     "source_hidden": true
    },
    "tags": []
   },
   "outputs": [
    {
     "data": {
      "text/plain": [
       "\"So we now have a new column named 'Duplicated values' showing boolean values of True and False\""
      ]
     },
     "execution_count": 44,
     "metadata": {},
     "output_type": "execute_result"
    }
   ],
   "source": [
    "\"\"\"So we now have a new column named 'Duplicated values' showing boolean values of True and False\"\"\""
   ]
  },
  {
   "cell_type": "code",
   "execution_count": 45,
   "id": "22636b12-57a9-4a63-8307-f06a3c61d087",
   "metadata": {},
   "outputs": [
    {
     "data": {
      "text/html": [
       "<div>\n",
       "<style scoped>\n",
       "    .dataframe tbody tr th:only-of-type {\n",
       "        vertical-align: middle;\n",
       "    }\n",
       "\n",
       "    .dataframe tbody tr th {\n",
       "        vertical-align: top;\n",
       "    }\n",
       "\n",
       "    .dataframe thead th {\n",
       "        text-align: right;\n",
       "    }\n",
       "</style>\n",
       "<table border=\"1\" class=\"dataframe\">\n",
       "  <thead>\n",
       "    <tr style=\"text-align: right;\">\n",
       "      <th></th>\n",
       "      <th>index</th>\n",
       "      <th>Order ID</th>\n",
       "      <th>Product</th>\n",
       "      <th>Quantity Ordered</th>\n",
       "      <th>Price Each</th>\n",
       "      <th>Sales</th>\n",
       "      <th>Months</th>\n",
       "      <th>Order Date</th>\n",
       "      <th>Purchase Address</th>\n",
       "      <th>Day, Year &amp; Time</th>\n",
       "      <th>City</th>\n",
       "      <th>Hours</th>\n",
       "      <th>Duplicate values</th>\n",
       "    </tr>\n",
       "  </thead>\n",
       "  <tbody>\n",
       "    <tr>\n",
       "      <th>0</th>\n",
       "      <td>0</td>\n",
       "      <td>176558</td>\n",
       "      <td>USB-C Charging Cable</td>\n",
       "      <td>2</td>\n",
       "      <td>11.95</td>\n",
       "      <td>23.90</td>\n",
       "      <td>4</td>\n",
       "      <td>2019-04-19 08:46:00</td>\n",
       "      <td>917 1st St, Dallas, TX 75001</td>\n",
       "      <td>19/19 08:46</td>\n",
       "      <td>Dallas TX</td>\n",
       "      <td>8</td>\n",
       "      <td>False</td>\n",
       "    </tr>\n",
       "    <tr>\n",
       "      <th>1</th>\n",
       "      <td>2</td>\n",
       "      <td>176559</td>\n",
       "      <td>Bose SoundSport Headphones</td>\n",
       "      <td>1</td>\n",
       "      <td>99.99</td>\n",
       "      <td>99.99</td>\n",
       "      <td>4</td>\n",
       "      <td>2019-04-07 22:30:00</td>\n",
       "      <td>682 Chestnut St, Boston, MA 02215</td>\n",
       "      <td>07/19 22:30</td>\n",
       "      <td>Boston MA</td>\n",
       "      <td>22</td>\n",
       "      <td>False</td>\n",
       "    </tr>\n",
       "    <tr>\n",
       "      <th>2</th>\n",
       "      <td>3</td>\n",
       "      <td>176560</td>\n",
       "      <td>Google Phone</td>\n",
       "      <td>1</td>\n",
       "      <td>600.00</td>\n",
       "      <td>600.00</td>\n",
       "      <td>4</td>\n",
       "      <td>2019-04-12 14:38:00</td>\n",
       "      <td>669 Spruce St, Los Angeles, CA 90001</td>\n",
       "      <td>12/19 14:38</td>\n",
       "      <td>Los Angeles CA</td>\n",
       "      <td>14</td>\n",
       "      <td>True</td>\n",
       "    </tr>\n",
       "    <tr>\n",
       "      <th>3</th>\n",
       "      <td>4</td>\n",
       "      <td>176560</td>\n",
       "      <td>Wired Headphones</td>\n",
       "      <td>1</td>\n",
       "      <td>11.99</td>\n",
       "      <td>11.99</td>\n",
       "      <td>4</td>\n",
       "      <td>2019-04-12 14:38:00</td>\n",
       "      <td>669 Spruce St, Los Angeles, CA 90001</td>\n",
       "      <td>12/19 14:38</td>\n",
       "      <td>Los Angeles CA</td>\n",
       "      <td>14</td>\n",
       "      <td>True</td>\n",
       "    </tr>\n",
       "  </tbody>\n",
       "</table>\n",
       "</div>"
      ],
      "text/plain": [
       "   index Order ID                     Product  Quantity Ordered  Price Each  \\\n",
       "0      0   176558        USB-C Charging Cable                 2       11.95   \n",
       "1      2   176559  Bose SoundSport Headphones                 1       99.99   \n",
       "2      3   176560                Google Phone                 1      600.00   \n",
       "3      4   176560            Wired Headphones                 1       11.99   \n",
       "\n",
       "    Sales  Months          Order Date                      Purchase Address  \\\n",
       "0   23.90       4 2019-04-19 08:46:00          917 1st St, Dallas, TX 75001   \n",
       "1   99.99       4 2019-04-07 22:30:00     682 Chestnut St, Boston, MA 02215   \n",
       "2  600.00       4 2019-04-12 14:38:00  669 Spruce St, Los Angeles, CA 90001   \n",
       "3   11.99       4 2019-04-12 14:38:00  669 Spruce St, Los Angeles, CA 90001   \n",
       "\n",
       "  Day, Year & Time             City  Hours  Duplicate values  \n",
       "0      19/19 08:46        Dallas TX      8             False  \n",
       "1      07/19 22:30        Boston MA     22             False  \n",
       "2      12/19 14:38   Los Angeles CA     14              True  \n",
       "3      12/19 14:38   Los Angeles CA     14              True  "
      ]
     },
     "execution_count": 45,
     "metadata": {},
     "output_type": "execute_result"
    }
   ],
   "source": [
    "months_data.head(4)"
   ]
  },
  {
   "cell_type": "code",
   "execution_count": 46,
   "id": "83d98eef-6932-409b-a955-a824fcbb93a4",
   "metadata": {},
   "outputs": [],
   "source": [
    "months_data['Grouped'] = months_data.groupby(['Order ID'])['Product'].transform(lambda x : ','.join(x))"
   ]
  },
  {
   "cell_type": "code",
   "execution_count": 50,
   "id": "ce80e6b3-13f8-40f5-8503-0dbf5d581d41",
   "metadata": {},
   "outputs": [],
   "source": [
    "from itertools import combinations\n",
    "from collections import Counter"
   ]
  },
  {
   "cell_type": "code",
   "execution_count": 60,
   "id": "d4bb223b-e9b9-40a0-b0a6-296d099e360c",
   "metadata": {
    "tags": []
   },
   "outputs": [
    {
     "data": {
      "text/plain": [
       "' I have gone through some post on stackoverflow site and got to know the use of Counter subclass of dict to count frequency of values of a list '"
      ]
     },
     "execution_count": 60,
     "metadata": {},
     "output_type": "execute_result"
    }
   ],
   "source": [
    "\"\"\" I have gone through some post on stackoverflow site and got to know the use of Counter subclass of dict to count frequency of values of a list \"\"\""
   ]
  },
  {
   "cell_type": "code",
   "execution_count": 56,
   "id": "feb77da3-3f22-4b9e-8d53-5d47fa7c53b5",
   "metadata": {},
   "outputs": [],
   "source": [
    "count = Counter()\n",
    "\n",
    "for values in months_data['Grouped']:\n",
    "    row_list = values.split(',')\n",
    "    count.update(Counter(combinations(row_list,2)))"
   ]
  },
  {
   "cell_type": "code",
   "execution_count": 63,
   "id": "6183d3ef-f8c9-42a6-85e0-163f29d70f78",
   "metadata": {},
   "outputs": [
    {
     "data": {
      "text/plain": [
       "[(('iPhone', 'Lightning Charging Cable'), 2140),\n",
       " (('Google Phone', 'USB-C Charging Cable'), 2116),\n",
       " (('iPhone', 'Wired Headphones'), 987),\n",
       " (('Google Phone', 'Wired Headphones'), 949),\n",
       " (('iPhone', 'Apple Airpods Headphones'), 799)]"
      ]
     },
     "execution_count": 63,
     "metadata": {},
     "output_type": "execute_result"
    }
   ],
   "source": [
    "count.most_common(5)"
   ]
  },
  {
   "cell_type": "markdown",
   "id": "0089edc5-f994-47ac-b936-6e1dd6140d7f",
   "metadata": {},
   "source": [
    "#### Question 5: Which product sold the most ? Why do you think it sold the most?"
   ]
  },
  {
   "cell_type": "code",
   "execution_count": 158,
   "id": "0896ae48-12d8-487f-941b-b5e42954bc4a",
   "metadata": {},
   "outputs": [
    {
     "data": {
      "text/html": [
       "<div>\n",
       "<style scoped>\n",
       "    .dataframe tbody tr th:only-of-type {\n",
       "        vertical-align: middle;\n",
       "    }\n",
       "\n",
       "    .dataframe tbody tr th {\n",
       "        vertical-align: top;\n",
       "    }\n",
       "\n",
       "    .dataframe thead th {\n",
       "        text-align: right;\n",
       "    }\n",
       "</style>\n",
       "<table border=\"1\" class=\"dataframe\">\n",
       "  <thead>\n",
       "    <tr style=\"text-align: right;\">\n",
       "      <th></th>\n",
       "      <th>index</th>\n",
       "      <th>Order ID</th>\n",
       "      <th>Product</th>\n",
       "      <th>Quantity Ordered</th>\n",
       "      <th>Price Each</th>\n",
       "      <th>Sales</th>\n",
       "      <th>Months</th>\n",
       "      <th>Order Date</th>\n",
       "      <th>Purchase Address</th>\n",
       "      <th>Day, Year &amp; Time</th>\n",
       "      <th>City</th>\n",
       "      <th>Hours</th>\n",
       "      <th>Duplicate values</th>\n",
       "      <th>Grouped</th>\n",
       "    </tr>\n",
       "  </thead>\n",
       "  <tbody>\n",
       "    <tr>\n",
       "      <th>0</th>\n",
       "      <td>0</td>\n",
       "      <td>176558</td>\n",
       "      <td>USB-C Charging Cable</td>\n",
       "      <td>2</td>\n",
       "      <td>11.95</td>\n",
       "      <td>23.90</td>\n",
       "      <td>4</td>\n",
       "      <td>2019-04-19 08:46:00</td>\n",
       "      <td>917 1st St, Dallas, TX 75001</td>\n",
       "      <td>19/19 08:46</td>\n",
       "      <td>Dallas TX</td>\n",
       "      <td>8</td>\n",
       "      <td>False</td>\n",
       "      <td>USB-C Charging Cable</td>\n",
       "    </tr>\n",
       "    <tr>\n",
       "      <th>1</th>\n",
       "      <td>2</td>\n",
       "      <td>176559</td>\n",
       "      <td>Bose SoundSport Headphones</td>\n",
       "      <td>1</td>\n",
       "      <td>99.99</td>\n",
       "      <td>99.99</td>\n",
       "      <td>4</td>\n",
       "      <td>2019-04-07 22:30:00</td>\n",
       "      <td>682 Chestnut St, Boston, MA 02215</td>\n",
       "      <td>07/19 22:30</td>\n",
       "      <td>Boston MA</td>\n",
       "      <td>22</td>\n",
       "      <td>False</td>\n",
       "      <td>Bose SoundSport Headphones</td>\n",
       "    </tr>\n",
       "    <tr>\n",
       "      <th>2</th>\n",
       "      <td>3</td>\n",
       "      <td>176560</td>\n",
       "      <td>Google Phone</td>\n",
       "      <td>1</td>\n",
       "      <td>600.00</td>\n",
       "      <td>600.00</td>\n",
       "      <td>4</td>\n",
       "      <td>2019-04-12 14:38:00</td>\n",
       "      <td>669 Spruce St, Los Angeles, CA 90001</td>\n",
       "      <td>12/19 14:38</td>\n",
       "      <td>Los Angeles CA</td>\n",
       "      <td>14</td>\n",
       "      <td>True</td>\n",
       "      <td>Google Phone,Wired Headphones</td>\n",
       "    </tr>\n",
       "  </tbody>\n",
       "</table>\n",
       "</div>"
      ],
      "text/plain": [
       "   index Order ID                     Product  Quantity Ordered  Price Each  \\\n",
       "0      0   176558        USB-C Charging Cable                 2       11.95   \n",
       "1      2   176559  Bose SoundSport Headphones                 1       99.99   \n",
       "2      3   176560                Google Phone                 1      600.00   \n",
       "\n",
       "    Sales  Months          Order Date                      Purchase Address  \\\n",
       "0   23.90       4 2019-04-19 08:46:00          917 1st St, Dallas, TX 75001   \n",
       "1   99.99       4 2019-04-07 22:30:00     682 Chestnut St, Boston, MA 02215   \n",
       "2  600.00       4 2019-04-12 14:38:00  669 Spruce St, Los Angeles, CA 90001   \n",
       "\n",
       "  Day, Year & Time             City  Hours  Duplicate values  \\\n",
       "0      19/19 08:46        Dallas TX      8             False   \n",
       "1      07/19 22:30        Boston MA     22             False   \n",
       "2      12/19 14:38   Los Angeles CA     14              True   \n",
       "\n",
       "                         Grouped  \n",
       "0           USB-C Charging Cable  \n",
       "1     Bose SoundSport Headphones  \n",
       "2  Google Phone,Wired Headphones  "
      ]
     },
     "execution_count": 158,
     "metadata": {},
     "output_type": "execute_result"
    }
   ],
   "source": [
    "months_data.head(3)"
   ]
  },
  {
   "cell_type": "code",
   "execution_count": 159,
   "id": "c95a851e-42f4-4ac2-951f-4cbd52a88f43",
   "metadata": {},
   "outputs": [],
   "source": [
    "prod_ordered = months_data.groupby('Product')"
   ]
  },
  {
   "cell_type": "code",
   "execution_count": 160,
   "id": "820a0a47-4769-4567-92f0-aaecf05a70b1",
   "metadata": {},
   "outputs": [],
   "source": [
    "quantity_ordered = prod_ordered.sum()['Quantity Ordered']\n",
    "products = [product for product, df in prod_ordered]"
   ]
  },
  {
   "cell_type": "code",
   "execution_count": 161,
   "id": "6967c90e-b1ad-43bc-a36c-249ad9c2cd4e",
   "metadata": {},
   "outputs": [
    {
     "data": {
      "image/png": "[encoded data removed]",
      "text/plain": [
       "<Figure size 432x288 with 1 Axes>"
      ]
     },
     "metadata": {
      "needs_background": "light"
     },
     "output_type": "display_data"
    }
   ],
   "source": [
    "plt.bar(products, quantity_ordered)\n",
    "plt.xticks(products, rotation= 'vertical',size=10)\n",
    "plt.ylabel('Quantity Ordered')\n",
    "plt.show()"
   ]
  },
  {
   "cell_type": "code",
   "execution_count": 162,
   "id": "176ea29a-4715-4391-8a67-214abd4aa3bb",
   "metadata": {},
   "outputs": [
    {
     "data": {
      "text/plain": [
       "Product\n",
       "20in Monitor                   4129\n",
       "27in 4K Gaming Monitor         6244\n",
       "27in FHD Monitor               7550\n",
       "34in Ultrawide Monitor         6199\n",
       "AA Batteries (4-pack)         27635\n",
       "AAA Batteries (4-pack)        31017\n",
       "Apple Airpods Headphones      15661\n",
       "Bose SoundSport Headphones    13457\n",
       "Flatscreen TV                  4819\n",
       "Google Phone                   5532\n",
       "LG Dryer                        646\n",
       "LG Washing Machine              666\n",
       "Lightning Charging Cable      23217\n",
       "Macbook Pro Laptop             4728\n",
       "ThinkPad Laptop                4130\n",
       "USB-C Charging Cable          23975\n",
       "Vareebadd Phone                2068\n",
       "Wired Headphones              20557\n",
       "iPhone                         6849\n",
       "Name: Quantity Ordered, dtype: int32"
      ]
     },
     "execution_count": 162,
     "metadata": {},
     "output_type": "execute_result"
    }
   ],
   "source": [
    "months_data.groupby('Product').sum()['Quantity Ordered']"
   ]
  },
  {
   "cell_type": "code",
   "execution_count": 163,
   "id": "a048009b-cc9a-4adf-afbe-82fc054e93f7",
   "metadata": {
    "jupyter": {
     "source_hidden": true
    },
    "tags": []
   },
   "outputs": [
    {
     "data": {
      "text/plain": [
       "\"By plotting the graph and also grouping products by counting their quantity ordered explicitly illustrate that 'AAA Batteries' was ordered more by the customers\""
      ]
     },
     "execution_count": 163,
     "metadata": {},
     "output_type": "execute_result"
    }
   ],
   "source": [
    "\"\"\"By plotting the graph and also grouping products by counting their quantity ordered explicitly illustrate that 'AAA Batteries' was ordered more by the customers\"\"\"\n"
   ]
  },
  {
   "cell_type": "code",
   "execution_count": 169,
   "id": "58cd714a-d7d6-4d62-b58e-88e696d68a79",
   "metadata": {
    "jupyter": {
     "source_hidden": true
    },
    "tags": []
   },
   "outputs": [
    {
     "data": {
      "text/plain": [
       "'and the least ordered product identified to be LG Dryer'"
      ]
     },
     "execution_count": 169,
     "metadata": {},
     "output_type": "execute_result"
    }
   ],
   "source": [
    "\"\"\"and the least ordered product identified to be LG Dryer\"\"\""
   ]
  },
  {
   "cell_type": "markdown",
   "id": "c5d3f6fc-f127-4713-a487-3b95d806495f",
   "metadata": {},
   "source": [
    "##### Determing if prices of the products are correlated with quantity ordered"
   ]
  },
  {
   "cell_type": "code",
   "execution_count": 170,
   "id": "9a92b12e-3d51-428f-a170-26f7cf096516",
   "metadata": {},
   "outputs": [],
   "source": [
    "price  = months_data.groupby('Product').mean()['Price Each']"
   ]
  },
  {
   "cell_type": "code",
   "execution_count": null,
   "id": "3cffa71e-18a7-4a95-ba81-26a70bef4543",
   "metadata": {},
   "outputs": [],
   "source": []
  },
  {
   "cell_type": "code",
   "execution_count": 175,
   "id": "cf487ffe-15d5-4f55-b7f3-ecd175f9ae52",
   "metadata": {},
   "outputs": [
    {
     "name": "stderr",
     "output_type": "stream",
     "text": [
      "C:\\Users\\meett\\AppData\\Local\\Temp\\ipykernel_24900\\997992156.py:10: UserWarning: FixedFormatter should only be used together with FixedLocator\n",
      "  ax1.set_xticklabels(products,rotation='vertical',size=10)\n"
     ]
    },
    {
     "data": {
      "image/png": "[encoded data removed]",
      "text/plain": [
       "<Figure size 432x288 with 2 Axes>"
      ]
     },
     "metadata": {
      "needs_background": "light"
     },
     "output_type": "display_data"
    }
   ],
   "source": [
    "fig, ax1 = plt.subplots()\n",
    "\n",
    "ax2 = ax1.twinx()\n",
    "ax1.bar(products,quantity_ordered,color='g')\n",
    "ax2.plot(products, price, 'b-')\n",
    "\n",
    "ax1.set_xlabel('Product name')\n",
    "ax1.set_ylabel('Quantity ordered', color='g')\n",
    "ax2.set_ylabel('Price', color='b')\n",
    "ax1.set_xticklabels(products,rotation='vertical',size=10)\n",
    "plt.show()\n"
   ]
  },
  {
   "cell_type": "code",
   "execution_count": null,
   "id": "cb1801bc-38e5-4067-8e12-969e34b5eed0",
   "metadata": {},
   "outputs": [],
   "source": []
  }
 ],
 "metadata": {
  "kernelspec": {
   "display_name": "Python 3 (ipykernel)",
   "language": "python",
   "name": "python3"
  },
  "language_info": {
   "codemirror_mode": {
    "name": "ipython",
    "version": 3
   },
   "file_extension": ".py",
   "mimetype": "text/x-python",
   "name": "python",
   "nbconvert_exporter": "python",
   "pygments_lexer": "ipython3",
   "version": "3.10.2"
  }
 },
 "nbformat": 4,
 "nbformat_minor": 5
}
